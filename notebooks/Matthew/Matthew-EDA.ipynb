{
 "cells": [
  {
   "cell_type": "markdown",
   "metadata": {
    "collapsed": true,
    "pycharm": {
     "name": "#%% md\n"
    }
   },
   "source": [
    "## Business Problem:\n",
    "The city of Seattle is looking to improve low property value neighborhoods. They are looking to upgrade infrastructure and give grants to homeowners in neighborhoods with low-grade houses to improve the property value of the neighborhood. They want to know which neighborhoods would benefit the most from infrastructure upgrades and grants. They want to know what should the homeowners use their grants for to improve the property value the most, and how can they improve infrastructure to increase the property value of the neighborhood?"
   ]
  },
  {
   "cell_type": "markdown",
   "source": [
    "I will be doing some EDA on the following features of this dataset:\n",
    "\n",
    "- grade\n",
    "- date - Date house was sold\n",
    "- yr_built - Year when house was built\n",
    "- yr_renovated - Year when house was renovated\n",
    "- floors - Number of floors (levels) in house\n",
    "\n",
    "and comparing them to the 'price' column"
   ],
   "metadata": {
    "collapsed": false,
    "pycharm": {
     "name": "#%% md\n"
    }
   }
  },
  {
   "cell_type": "code",
   "execution_count": 109,
   "outputs": [],
   "source": [
    "# Import related libraries\n",
    "import pandas as pd\n",
    "import matplotlib.pyplot as plt\n",
    "import seaborn as sns\n",
    "import numpy as np"
   ],
   "metadata": {
    "collapsed": false,
    "pycharm": {
     "name": "#%%\n"
    }
   }
  },
  {
   "cell_type": "code",
   "execution_count": 110,
   "outputs": [],
   "source": [
    "# obtain data from csv\n",
    "kc = pd.read_csv('../../Data/kc_house_data.csv')"
   ],
   "metadata": {
    "collapsed": false,
    "pycharm": {
     "name": "#%%\n"
    }
   }
  },
  {
   "cell_type": "code",
   "execution_count": 111,
   "outputs": [
    {
     "data": {
      "text/plain": "           id        date     price  bedrooms  bathrooms  sqft_living  \\\n0  7129300520  10/13/2014  221900.0         3       1.00         1180   \n1  6414100192   12/9/2014  538000.0         3       2.25         2570   \n2  5631500400   2/25/2015  180000.0         2       1.00          770   \n3  2487200875   12/9/2014  604000.0         4       3.00         1960   \n4  1954400510   2/18/2015  510000.0         3       2.00         1680   \n\n   sqft_lot  floors waterfront  view  ...          grade sqft_above  \\\n0      5650     1.0        NaN  NONE  ...      7 Average       1180   \n1      7242     2.0         NO  NONE  ...      7 Average       2170   \n2     10000     1.0         NO  NONE  ...  6 Low Average        770   \n3      5000     1.0         NO  NONE  ...      7 Average       1050   \n4      8080     1.0         NO  NONE  ...         8 Good       1680   \n\n   sqft_basement yr_built  yr_renovated  zipcode      lat     long  \\\n0            0.0     1955           0.0    98178  47.5112 -122.257   \n1          400.0     1951        1991.0    98125  47.7210 -122.319   \n2            0.0     1933           NaN    98028  47.7379 -122.233   \n3          910.0     1965           0.0    98136  47.5208 -122.393   \n4            0.0     1987           0.0    98074  47.6168 -122.045   \n\n   sqft_living15  sqft_lot15  \n0           1340        5650  \n1           1690        7639  \n2           2720        8062  \n3           1360        5000  \n4           1800        7503  \n\n[5 rows x 21 columns]",
      "text/html": "<div>\n<style scoped>\n    .dataframe tbody tr th:only-of-type {\n        vertical-align: middle;\n    }\n\n    .dataframe tbody tr th {\n        vertical-align: top;\n    }\n\n    .dataframe thead th {\n        text-align: right;\n    }\n</style>\n<table border=\"1\" class=\"dataframe\">\n  <thead>\n    <tr style=\"text-align: right;\">\n      <th></th>\n      <th>id</th>\n      <th>date</th>\n      <th>price</th>\n      <th>bedrooms</th>\n      <th>bathrooms</th>\n      <th>sqft_living</th>\n      <th>sqft_lot</th>\n      <th>floors</th>\n      <th>waterfront</th>\n      <th>view</th>\n      <th>...</th>\n      <th>grade</th>\n      <th>sqft_above</th>\n      <th>sqft_basement</th>\n      <th>yr_built</th>\n      <th>yr_renovated</th>\n      <th>zipcode</th>\n      <th>lat</th>\n      <th>long</th>\n      <th>sqft_living15</th>\n      <th>sqft_lot15</th>\n    </tr>\n  </thead>\n  <tbody>\n    <tr>\n      <th>0</th>\n      <td>7129300520</td>\n      <td>10/13/2014</td>\n      <td>221900.0</td>\n      <td>3</td>\n      <td>1.00</td>\n      <td>1180</td>\n      <td>5650</td>\n      <td>1.0</td>\n      <td>NaN</td>\n      <td>NONE</td>\n      <td>...</td>\n      <td>7 Average</td>\n      <td>1180</td>\n      <td>0.0</td>\n      <td>1955</td>\n      <td>0.0</td>\n      <td>98178</td>\n      <td>47.5112</td>\n      <td>-122.257</td>\n      <td>1340</td>\n      <td>5650</td>\n    </tr>\n    <tr>\n      <th>1</th>\n      <td>6414100192</td>\n      <td>12/9/2014</td>\n      <td>538000.0</td>\n      <td>3</td>\n      <td>2.25</td>\n      <td>2570</td>\n      <td>7242</td>\n      <td>2.0</td>\n      <td>NO</td>\n      <td>NONE</td>\n      <td>...</td>\n      <td>7 Average</td>\n      <td>2170</td>\n      <td>400.0</td>\n      <td>1951</td>\n      <td>1991.0</td>\n      <td>98125</td>\n      <td>47.7210</td>\n      <td>-122.319</td>\n      <td>1690</td>\n      <td>7639</td>\n    </tr>\n    <tr>\n      <th>2</th>\n      <td>5631500400</td>\n      <td>2/25/2015</td>\n      <td>180000.0</td>\n      <td>2</td>\n      <td>1.00</td>\n      <td>770</td>\n      <td>10000</td>\n      <td>1.0</td>\n      <td>NO</td>\n      <td>NONE</td>\n      <td>...</td>\n      <td>6 Low Average</td>\n      <td>770</td>\n      <td>0.0</td>\n      <td>1933</td>\n      <td>NaN</td>\n      <td>98028</td>\n      <td>47.7379</td>\n      <td>-122.233</td>\n      <td>2720</td>\n      <td>8062</td>\n    </tr>\n    <tr>\n      <th>3</th>\n      <td>2487200875</td>\n      <td>12/9/2014</td>\n      <td>604000.0</td>\n      <td>4</td>\n      <td>3.00</td>\n      <td>1960</td>\n      <td>5000</td>\n      <td>1.0</td>\n      <td>NO</td>\n      <td>NONE</td>\n      <td>...</td>\n      <td>7 Average</td>\n      <td>1050</td>\n      <td>910.0</td>\n      <td>1965</td>\n      <td>0.0</td>\n      <td>98136</td>\n      <td>47.5208</td>\n      <td>-122.393</td>\n      <td>1360</td>\n      <td>5000</td>\n    </tr>\n    <tr>\n      <th>4</th>\n      <td>1954400510</td>\n      <td>2/18/2015</td>\n      <td>510000.0</td>\n      <td>3</td>\n      <td>2.00</td>\n      <td>1680</td>\n      <td>8080</td>\n      <td>1.0</td>\n      <td>NO</td>\n      <td>NONE</td>\n      <td>...</td>\n      <td>8 Good</td>\n      <td>1680</td>\n      <td>0.0</td>\n      <td>1987</td>\n      <td>0.0</td>\n      <td>98074</td>\n      <td>47.6168</td>\n      <td>-122.045</td>\n      <td>1800</td>\n      <td>7503</td>\n    </tr>\n  </tbody>\n</table>\n<p>5 rows × 21 columns</p>\n</div>"
     },
     "execution_count": 111,
     "metadata": {},
     "output_type": "execute_result"
    }
   ],
   "source": [
    "#Visually confirm expected results\n",
    "kc.head()"
   ],
   "metadata": {
    "collapsed": false,
    "pycharm": {
     "name": "#%%\n"
    }
   }
  },
  {
   "cell_type": "code",
   "execution_count": 112,
   "outputs": [],
   "source": [
    "# For now, I'll take only what I'm responsible for, and our target, 'Price'\n",
    "kc_m = kc[['id', 'price', 'grade', 'date', 'yr_built', 'yr_renovated', 'floors']]"
   ],
   "metadata": {
    "collapsed": false,
    "pycharm": {
     "name": "#%%\n"
    }
   }
  },
  {
   "cell_type": "code",
   "execution_count": 113,
   "outputs": [
    {
     "data": {
      "text/plain": "           id     price          grade        date  yr_built  yr_renovated  \\\n0  7129300520  221900.0      7 Average  10/13/2014      1955           0.0   \n1  6414100192  538000.0      7 Average   12/9/2014      1951        1991.0   \n2  5631500400  180000.0  6 Low Average   2/25/2015      1933           NaN   \n3  2487200875  604000.0      7 Average   12/9/2014      1965           0.0   \n4  1954400510  510000.0         8 Good   2/18/2015      1987           0.0   \n\n   floors  \n0     1.0  \n1     2.0  \n2     1.0  \n3     1.0  \n4     1.0  ",
      "text/html": "<div>\n<style scoped>\n    .dataframe tbody tr th:only-of-type {\n        vertical-align: middle;\n    }\n\n    .dataframe tbody tr th {\n        vertical-align: top;\n    }\n\n    .dataframe thead th {\n        text-align: right;\n    }\n</style>\n<table border=\"1\" class=\"dataframe\">\n  <thead>\n    <tr style=\"text-align: right;\">\n      <th></th>\n      <th>id</th>\n      <th>price</th>\n      <th>grade</th>\n      <th>date</th>\n      <th>yr_built</th>\n      <th>yr_renovated</th>\n      <th>floors</th>\n    </tr>\n  </thead>\n  <tbody>\n    <tr>\n      <th>0</th>\n      <td>7129300520</td>\n      <td>221900.0</td>\n      <td>7 Average</td>\n      <td>10/13/2014</td>\n      <td>1955</td>\n      <td>0.0</td>\n      <td>1.0</td>\n    </tr>\n    <tr>\n      <th>1</th>\n      <td>6414100192</td>\n      <td>538000.0</td>\n      <td>7 Average</td>\n      <td>12/9/2014</td>\n      <td>1951</td>\n      <td>1991.0</td>\n      <td>2.0</td>\n    </tr>\n    <tr>\n      <th>2</th>\n      <td>5631500400</td>\n      <td>180000.0</td>\n      <td>6 Low Average</td>\n      <td>2/25/2015</td>\n      <td>1933</td>\n      <td>NaN</td>\n      <td>1.0</td>\n    </tr>\n    <tr>\n      <th>3</th>\n      <td>2487200875</td>\n      <td>604000.0</td>\n      <td>7 Average</td>\n      <td>12/9/2014</td>\n      <td>1965</td>\n      <td>0.0</td>\n      <td>1.0</td>\n    </tr>\n    <tr>\n      <th>4</th>\n      <td>1954400510</td>\n      <td>510000.0</td>\n      <td>8 Good</td>\n      <td>2/18/2015</td>\n      <td>1987</td>\n      <td>0.0</td>\n      <td>1.0</td>\n    </tr>\n  </tbody>\n</table>\n</div>"
     },
     "execution_count": 113,
     "metadata": {},
     "output_type": "execute_result"
    }
   ],
   "source": [
    "#Visually confirm expected results\n",
    "kc_m.head()"
   ],
   "metadata": {
    "collapsed": false,
    "pycharm": {
     "name": "#%%\n"
    }
   }
  },
  {
   "cell_type": "code",
   "execution_count": 114,
   "outputs": [
    {
     "name": "stdout",
     "output_type": "stream",
     "text": [
      "<class 'pandas.core.frame.DataFrame'>\n",
      "RangeIndex: 21597 entries, 0 to 21596\n",
      "Data columns (total 7 columns):\n",
      " #   Column        Non-Null Count  Dtype  \n",
      "---  ------        --------------  -----  \n",
      " 0   id            21597 non-null  int64  \n",
      " 1   price         21597 non-null  float64\n",
      " 2   grade         21597 non-null  object \n",
      " 3   date          21597 non-null  object \n",
      " 4   yr_built      21597 non-null  int64  \n",
      " 5   yr_renovated  17755 non-null  float64\n",
      " 6   floors        21597 non-null  float64\n",
      "dtypes: float64(3), int64(2), object(2)\n",
      "memory usage: 1.2+ MB\n"
     ]
    }
   ],
   "source": [
    "kc_m.info()"
   ],
   "metadata": {
    "collapsed": false,
    "pycharm": {
     "name": "#%%\n"
    }
   }
  },
  {
   "cell_type": "markdown",
   "source": [
    "## Year Renovated"
   ],
   "metadata": {
    "collapsed": false,
    "pycharm": {
     "name": "#%% md\n"
    }
   }
  },
  {
   "cell_type": "code",
   "execution_count": 115,
   "outputs": [
    {
     "data": {
      "text/plain": "False    17755\nTrue      3842\nName: yr_renovated, dtype: int64"
     },
     "execution_count": 115,
     "metadata": {},
     "output_type": "execute_result"
    }
   ],
   "source": [
    "# It looks like we have some null values in \"year renovated\".\n",
    "\n",
    "# 3482 null values\n",
    "kc_m['yr_renovated'].isna().value_counts()"
   ],
   "metadata": {
    "collapsed": false,
    "pycharm": {
     "name": "#%%\n"
    }
   }
  },
  {
   "cell_type": "code",
   "execution_count": 116,
   "outputs": [
    {
     "data": {
      "text/plain": "0.0       17011\n2014.0       73\n2003.0       31\n2013.0       31\n2007.0       30\n          ...  \n1948.0        1\n1951.0        1\n1971.0        1\n1934.0        1\n1944.0        1\nName: yr_renovated, Length: 70, dtype: int64"
     },
     "execution_count": 116,
     "metadata": {},
     "output_type": "execute_result"
    }
   ],
   "source": [
    "# Let's also check for any placeholder values too\n",
    "kc_m['yr_renovated'].value_counts()"
   ],
   "metadata": {
    "collapsed": false,
    "pycharm": {
     "name": "#%%\n"
    }
   }
  },
  {
   "cell_type": "markdown",
   "source": [
    "So of the 17755 values that arent null 17011 of them are a 0. Meaning they've never been renovated. I think in this case, it would be better to KEEP all the NA values, and change all those 0's into null values. This way they won't be included in any calculations."
   ],
   "metadata": {
    "collapsed": false,
    "pycharm": {
     "name": "#%% md\n"
    }
   }
  },
  {
   "cell_type": "code",
   "execution_count": 117,
   "outputs": [
    {
     "name": "stderr",
     "output_type": "stream",
     "text": [
      "/Users/matthewturner/opt/anaconda3/lib/python3.8/site-packages/pandas/core/series.py:4509: SettingWithCopyWarning: \n",
      "A value is trying to be set on a copy of a slice from a DataFrame\n",
      "\n",
      "See the caveats in the documentation: https://pandas.pydata.org/pandas-docs/stable/user_guide/indexing.html#returning-a-view-versus-a-copy\n",
      "  return super().replace(\n"
     ]
    }
   ],
   "source": [
    "kc_m['yr_renovated'].replace(to_replace=0.0, value = np.nan, inplace=True)"
   ],
   "metadata": {
    "collapsed": false,
    "pycharm": {
     "name": "#%%\n"
    }
   }
  },
  {
   "cell_type": "code",
   "execution_count": 118,
   "outputs": [
    {
     "data": {
      "text/plain": "2014.0    73\n2013.0    31\n2003.0    31\n2007.0    30\n2005.0    29\n          ..\n1951.0     1\n1944.0     1\n1976.0     1\n1934.0     1\n1946.0     1\nName: yr_renovated, Length: 69, dtype: int64"
     },
     "execution_count": 118,
     "metadata": {},
     "output_type": "execute_result"
    }
   ],
   "source": [
    "# Confirm expected results\n",
    "kc_m['yr_renovated'].value_counts()"
   ],
   "metadata": {
    "collapsed": false,
    "pycharm": {
     "name": "#%%\n"
    }
   }
  },
  {
   "cell_type": "code",
   "execution_count": 119,
   "outputs": [
    {
     "data": {
      "text/plain": "count     744.000000\nmean     1995.928763\nstd        15.599946\nmin      1934.000000\n25%      1987.000000\n50%      2000.000000\n75%      2007.250000\nmax      2015.000000\nName: yr_renovated, dtype: float64"
     },
     "execution_count": 119,
     "metadata": {},
     "output_type": "execute_result"
    }
   ],
   "source": [
    "# This result looks much better\n",
    "kc_m['yr_renovated'].describe()"
   ],
   "metadata": {
    "collapsed": false,
    "pycharm": {
     "name": "#%%\n"
    }
   }
  },
  {
   "cell_type": "code",
   "execution_count": 120,
   "outputs": [
    {
     "data": {
      "text/plain": "<Figure size 432x288 with 1 Axes>",
      "image/png": "[encoded data removed]"
     },
     "metadata": {
      "needs_background": "light"
     },
     "output_type": "display_data"
    }
   ],
   "source": [
    "kc_m.plot(kind='scatter', x='yr_renovated', y='price');"
   ],
   "metadata": {
    "collapsed": false,
    "pycharm": {
     "name": "#%%\n"
    }
   }
  },
  {
   "cell_type": "markdown",
   "source": [
    "Doesn't look like there is a correlation here, but it may be interesting to investigate if a house has ANY renovation makes a differance."
   ],
   "metadata": {
    "collapsed": false,
    "pycharm": {
     "name": "#%% md\n"
    }
   }
  },
  {
   "cell_type": "markdown",
   "source": [
    "## Grade"
   ],
   "metadata": {
    "collapsed": false,
    "pycharm": {
     "name": "#%% md\n"
    }
   }
  },
  {
   "cell_type": "code",
   "execution_count": 121,
   "outputs": [
    {
     "data": {
      "text/plain": "7 Average        8974\n8 Good           6065\n9 Better         2615\n6 Low Average    2038\n10 Very Good     1134\n11 Excellent      399\n5 Fair            242\n12 Luxury          89\n4 Low              27\n13 Mansion         13\n3 Poor              1\nName: grade, dtype: int64"
     },
     "execution_count": 121,
     "metadata": {},
     "output_type": "execute_result"
    }
   ],
   "source": [
    "# Lets take a look at Grade, something that will be important for my group moving forward.\n",
    "kc_m['grade'].value_counts()"
   ],
   "metadata": {
    "collapsed": false,
    "pycharm": {
     "name": "#%%\n"
    }
   }
  },
  {
   "cell_type": "code",
   "execution_count": 122,
   "outputs": [],
   "source": [
    "# This is, undoubtedly, a categorical variable. This will need to be changed for our modeling later.\n",
    "kc_m = pd.get_dummies(data=kc_m, columns=['grade'])"
   ],
   "metadata": {
    "collapsed": false,
    "pycharm": {
     "name": "#%%\n"
    }
   }
  },
  {
   "cell_type": "code",
   "execution_count": 123,
   "outputs": [
    {
     "data": {
      "text/plain": "               id     price        date  yr_built  yr_renovated  floors  \\\n0      7129300520  221900.0  10/13/2014      1955           NaN     1.0   \n1      6414100192  538000.0   12/9/2014      1951        1991.0     2.0   \n2      5631500400  180000.0   2/25/2015      1933           NaN     1.0   \n3      2487200875  604000.0   12/9/2014      1965           NaN     1.0   \n4      1954400510  510000.0   2/18/2015      1987           NaN     1.0   \n...           ...       ...         ...       ...           ...     ...   \n21592   263000018  360000.0   5/21/2014      2009           NaN     3.0   \n21593  6600060120  400000.0   2/23/2015      2014           NaN     2.0   \n21594  1523300141  402101.0   6/23/2014      2009           NaN     2.0   \n21595   291310100  400000.0   1/16/2015      2004           NaN     2.0   \n21596  1523300157  325000.0  10/15/2014      2008           NaN     2.0   \n\n       grade_10 Very Good  grade_11 Excellent  grade_12 Luxury  \\\n0                       0                   0                0   \n1                       0                   0                0   \n2                       0                   0                0   \n3                       0                   0                0   \n4                       0                   0                0   \n...                   ...                 ...              ...   \n21592                   0                   0                0   \n21593                   0                   0                0   \n21594                   0                   0                0   \n21595                   0                   0                0   \n21596                   0                   0                0   \n\n       grade_13 Mansion  grade_3 Poor  grade_4 Low  grade_5 Fair  \\\n0                     0             0            0             0   \n1                     0             0            0             0   \n2                     0             0            0             0   \n3                     0             0            0             0   \n4                     0             0            0             0   \n...                 ...           ...          ...           ...   \n21592                 0             0            0             0   \n21593                 0             0            0             0   \n21594                 0             0            0             0   \n21595                 0             0            0             0   \n21596                 0             0            0             0   \n\n       grade_6 Low Average  grade_7 Average  grade_8 Good  grade_9 Better  \n0                        0                1             0               0  \n1                        0                1             0               0  \n2                        1                0             0               0  \n3                        0                1             0               0  \n4                        0                0             1               0  \n...                    ...              ...           ...             ...  \n21592                    0                0             1               0  \n21593                    0                0             1               0  \n21594                    0                1             0               0  \n21595                    0                0             1               0  \n21596                    0                1             0               0  \n\n[21597 rows x 17 columns]",
      "text/html": "<div>\n<style scoped>\n    .dataframe tbody tr th:only-of-type {\n        vertical-align: middle;\n    }\n\n    .dataframe tbody tr th {\n        vertical-align: top;\n    }\n\n    .dataframe thead th {\n        text-align: right;\n    }\n</style>\n<table border=\"1\" class=\"dataframe\">\n  <thead>\n    <tr style=\"text-align: right;\">\n      <th></th>\n      <th>id</th>\n      <th>price</th>\n      <th>date</th>\n      <th>yr_built</th>\n      <th>yr_renovated</th>\n      <th>floors</th>\n      <th>grade_10 Very Good</th>\n      <th>grade_11 Excellent</th>\n      <th>grade_12 Luxury</th>\n      <th>grade_13 Mansion</th>\n      <th>grade_3 Poor</th>\n      <th>grade_4 Low</th>\n      <th>grade_5 Fair</th>\n      <th>grade_6 Low Average</th>\n      <th>grade_7 Average</th>\n      <th>grade_8 Good</th>\n      <th>grade_9 Better</th>\n    </tr>\n  </thead>\n  <tbody>\n    <tr>\n      <th>0</th>\n      <td>7129300520</td>\n      <td>221900.0</td>\n      <td>10/13/2014</td>\n      <td>1955</td>\n      <td>NaN</td>\n      <td>1.0</td>\n      <td>0</td>\n      <td>0</td>\n      <td>0</td>\n      <td>0</td>\n      <td>0</td>\n      <td>0</td>\n      <td>0</td>\n      <td>0</td>\n      <td>1</td>\n      <td>0</td>\n      <td>0</td>\n    </tr>\n    <tr>\n      <th>1</th>\n      <td>6414100192</td>\n      <td>538000.0</td>\n      <td>12/9/2014</td>\n      <td>1951</td>\n      <td>1991.0</td>\n      <td>2.0</td>\n      <td>0</td>\n      <td>0</td>\n      <td>0</td>\n      <td>0</td>\n      <td>0</td>\n      <td>0</td>\n      <td>0</td>\n      <td>0</td>\n      <td>1</td>\n      <td>0</td>\n      <td>0</td>\n    </tr>\n    <tr>\n      <th>2</th>\n      <td>5631500400</td>\n      <td>180000.0</td>\n      <td>2/25/2015</td>\n      <td>1933</td>\n      <td>NaN</td>\n      <td>1.0</td>\n      <td>0</td>\n      <td>0</td>\n      <td>0</td>\n      <td>0</td>\n      <td>0</td>\n      <td>0</td>\n      <td>0</td>\n      <td>1</td>\n      <td>0</td>\n      <td>0</td>\n      <td>0</td>\n    </tr>\n    <tr>\n      <th>3</th>\n      <td>2487200875</td>\n      <td>604000.0</td>\n      <td>12/9/2014</td>\n      <td>1965</td>\n      <td>NaN</td>\n      <td>1.0</td>\n      <td>0</td>\n      <td>0</td>\n      <td>0</td>\n      <td>0</td>\n      <td>0</td>\n      <td>0</td>\n      <td>0</td>\n      <td>0</td>\n      <td>1</td>\n      <td>0</td>\n      <td>0</td>\n    </tr>\n    <tr>\n      <th>4</th>\n      <td>1954400510</td>\n      <td>510000.0</td>\n      <td>2/18/2015</td>\n      <td>1987</td>\n      <td>NaN</td>\n      <td>1.0</td>\n      <td>0</td>\n      <td>0</td>\n      <td>0</td>\n      <td>0</td>\n      <td>0</td>\n      <td>0</td>\n      <td>0</td>\n      <td>0</td>\n      <td>0</td>\n      <td>1</td>\n      <td>0</td>\n    </tr>\n    <tr>\n      <th>...</th>\n      <td>...</td>\n      <td>...</td>\n      <td>...</td>\n      <td>...</td>\n      <td>...</td>\n      <td>...</td>\n      <td>...</td>\n      <td>...</td>\n      <td>...</td>\n      <td>...</td>\n      <td>...</td>\n      <td>...</td>\n      <td>...</td>\n      <td>...</td>\n      <td>...</td>\n      <td>...</td>\n      <td>...</td>\n    </tr>\n    <tr>\n      <th>21592</th>\n      <td>263000018</td>\n      <td>360000.0</td>\n      <td>5/21/2014</td>\n      <td>2009</td>\n      <td>NaN</td>\n      <td>3.0</td>\n      <td>0</td>\n      <td>0</td>\n      <td>0</td>\n      <td>0</td>\n      <td>0</td>\n      <td>0</td>\n      <td>0</td>\n      <td>0</td>\n      <td>0</td>\n      <td>1</td>\n      <td>0</td>\n    </tr>\n    <tr>\n      <th>21593</th>\n      <td>6600060120</td>\n      <td>400000.0</td>\n      <td>2/23/2015</td>\n      <td>2014</td>\n      <td>NaN</td>\n      <td>2.0</td>\n      <td>0</td>\n      <td>0</td>\n      <td>0</td>\n      <td>0</td>\n      <td>0</td>\n      <td>0</td>\n      <td>0</td>\n      <td>0</td>\n      <td>0</td>\n      <td>1</td>\n      <td>0</td>\n    </tr>\n    <tr>\n      <th>21594</th>\n      <td>1523300141</td>\n      <td>402101.0</td>\n      <td>6/23/2014</td>\n      <td>2009</td>\n      <td>NaN</td>\n      <td>2.0</td>\n      <td>0</td>\n      <td>0</td>\n      <td>0</td>\n      <td>0</td>\n      <td>0</td>\n      <td>0</td>\n      <td>0</td>\n      <td>0</td>\n      <td>1</td>\n      <td>0</td>\n      <td>0</td>\n    </tr>\n    <tr>\n      <th>21595</th>\n      <td>291310100</td>\n      <td>400000.0</td>\n      <td>1/16/2015</td>\n      <td>2004</td>\n      <td>NaN</td>\n      <td>2.0</td>\n      <td>0</td>\n      <td>0</td>\n      <td>0</td>\n      <td>0</td>\n      <td>0</td>\n      <td>0</td>\n      <td>0</td>\n      <td>0</td>\n      <td>0</td>\n      <td>1</td>\n      <td>0</td>\n    </tr>\n    <tr>\n      <th>21596</th>\n      <td>1523300157</td>\n      <td>325000.0</td>\n      <td>10/15/2014</td>\n      <td>2008</td>\n      <td>NaN</td>\n      <td>2.0</td>\n      <td>0</td>\n      <td>0</td>\n      <td>0</td>\n      <td>0</td>\n      <td>0</td>\n      <td>0</td>\n      <td>0</td>\n      <td>0</td>\n      <td>1</td>\n      <td>0</td>\n      <td>0</td>\n    </tr>\n  </tbody>\n</table>\n<p>21597 rows × 17 columns</p>\n</div>"
     },
     "execution_count": 123,
     "metadata": {},
     "output_type": "execute_result"
    }
   ],
   "source": [
    "# Ensure grade has been transformed.\n",
    "kc_m"
   ],
   "metadata": {
    "collapsed": false,
    "pycharm": {
     "name": "#%%\n"
    }
   }
  },
  {
   "cell_type": "markdown",
   "source": [
    "## Floors"
   ],
   "metadata": {
    "collapsed": false
   }
  },
  {
   "cell_type": "code",
   "execution_count": 124,
   "outputs": [
    {
     "data": {
      "text/plain": "<Figure size 432x288 with 1 Axes>",
      "image/png": "[encoded data removed]"
     },
     "metadata": {
      "needs_background": "light"
     },
     "output_type": "display_data"
    }
   ],
   "source": [
    "# Lets make sure that Year built and \"Floors\" aren't categorical either\n",
    "kc_m.plot(kind='scatter', x='floors', y='price');"
   ],
   "metadata": {
    "collapsed": false,
    "pycharm": {
     "name": "#%%\n"
    }
   }
  },
  {
   "cell_type": "code",
   "source": [
    "# More categorical variables\n",
    "kc_m['floors'].value_counts()"
   ],
   "metadata": {
    "collapsed": false,
    "pycharm": {
     "name": "#%%\n"
    }
   },
   "execution_count": 125,
   "outputs": [
    {
     "data": {
      "text/plain": "1.0    10673\n2.0     8235\n1.5     1910\n3.0      611\n2.5      161\n3.5        7\nName: floors, dtype: int64"
     },
     "execution_count": 125,
     "metadata": {},
     "output_type": "execute_result"
    }
   ]
  },
  {
   "cell_type": "code",
   "execution_count": 126,
   "outputs": [],
   "source": [
    "# We only have 6 distinct categories, so lets encode them\n",
    "kc_m = pd.get_dummies(data=kc_m, columns=['floors'])"
   ],
   "metadata": {
    "collapsed": false,
    "pycharm": {
     "name": "#%%\n"
    }
   }
  },
  {
   "cell_type": "code",
   "execution_count": 127,
   "outputs": [
    {
     "data": {
      "text/plain": "               id     price        date  yr_built  yr_renovated  \\\n0      7129300520  221900.0  10/13/2014      1955           NaN   \n1      6414100192  538000.0   12/9/2014      1951        1991.0   \n2      5631500400  180000.0   2/25/2015      1933           NaN   \n3      2487200875  604000.0   12/9/2014      1965           NaN   \n4      1954400510  510000.0   2/18/2015      1987           NaN   \n...           ...       ...         ...       ...           ...   \n21592   263000018  360000.0   5/21/2014      2009           NaN   \n21593  6600060120  400000.0   2/23/2015      2014           NaN   \n21594  1523300141  402101.0   6/23/2014      2009           NaN   \n21595   291310100  400000.0   1/16/2015      2004           NaN   \n21596  1523300157  325000.0  10/15/2014      2008           NaN   \n\n       grade_10 Very Good  grade_11 Excellent  grade_12 Luxury  \\\n0                       0                   0                0   \n1                       0                   0                0   \n2                       0                   0                0   \n3                       0                   0                0   \n4                       0                   0                0   \n...                   ...                 ...              ...   \n21592                   0                   0                0   \n21593                   0                   0                0   \n21594                   0                   0                0   \n21595                   0                   0                0   \n21596                   0                   0                0   \n\n       grade_13 Mansion  grade_3 Poor  ...  grade_6 Low Average  \\\n0                     0             0  ...                    0   \n1                     0             0  ...                    0   \n2                     0             0  ...                    1   \n3                     0             0  ...                    0   \n4                     0             0  ...                    0   \n...                 ...           ...  ...                  ...   \n21592                 0             0  ...                    0   \n21593                 0             0  ...                    0   \n21594                 0             0  ...                    0   \n21595                 0             0  ...                    0   \n21596                 0             0  ...                    0   \n\n       grade_7 Average  grade_8 Good  grade_9 Better  floors_1.0  floors_1.5  \\\n0                    1             0               0           1           0   \n1                    1             0               0           0           0   \n2                    0             0               0           1           0   \n3                    1             0               0           1           0   \n4                    0             1               0           1           0   \n...                ...           ...             ...         ...         ...   \n21592                0             1               0           0           0   \n21593                0             1               0           0           0   \n21594                1             0               0           0           0   \n21595                0             1               0           0           0   \n21596                1             0               0           0           0   \n\n       floors_2.0  floors_2.5  floors_3.0  floors_3.5  \n0               0           0           0           0  \n1               1           0           0           0  \n2               0           0           0           0  \n3               0           0           0           0  \n4               0           0           0           0  \n...           ...         ...         ...         ...  \n21592           0           0           1           0  \n21593           1           0           0           0  \n21594           1           0           0           0  \n21595           1           0           0           0  \n21596           1           0           0           0  \n\n[21597 rows x 22 columns]",
      "text/html": "<div>\n<style scoped>\n    .dataframe tbody tr th:only-of-type {\n        vertical-align: middle;\n    }\n\n    .dataframe tbody tr th {\n        vertical-align: top;\n    }\n\n    .dataframe thead th {\n        text-align: right;\n    }\n</style>\n<table border=\"1\" class=\"dataframe\">\n  <thead>\n    <tr style=\"text-align: right;\">\n      <th></th>\n      <th>id</th>\n      <th>price</th>\n      <th>date</th>\n      <th>yr_built</th>\n      <th>yr_renovated</th>\n      <th>grade_10 Very Good</th>\n      <th>grade_11 Excellent</th>\n      <th>grade_12 Luxury</th>\n      <th>grade_13 Mansion</th>\n      <th>grade_3 Poor</th>\n      <th>...</th>\n      <th>grade_6 Low Average</th>\n      <th>grade_7 Average</th>\n      <th>grade_8 Good</th>\n      <th>grade_9 Better</th>\n      <th>floors_1.0</th>\n      <th>floors_1.5</th>\n      <th>floors_2.0</th>\n      <th>floors_2.5</th>\n      <th>floors_3.0</th>\n      <th>floors_3.5</th>\n    </tr>\n  </thead>\n  <tbody>\n    <tr>\n      <th>0</th>\n      <td>7129300520</td>\n      <td>221900.0</td>\n      <td>10/13/2014</td>\n      <td>1955</td>\n      <td>NaN</td>\n      <td>0</td>\n      <td>0</td>\n      <td>0</td>\n      <td>0</td>\n      <td>0</td>\n      <td>...</td>\n      <td>0</td>\n      <td>1</td>\n      <td>0</td>\n      <td>0</td>\n      <td>1</td>\n      <td>0</td>\n      <td>0</td>\n      <td>0</td>\n      <td>0</td>\n      <td>0</td>\n    </tr>\n    <tr>\n      <th>1</th>\n      <td>6414100192</td>\n      <td>538000.0</td>\n      <td>12/9/2014</td>\n      <td>1951</td>\n      <td>1991.0</td>\n      <td>0</td>\n      <td>0</td>\n      <td>0</td>\n      <td>0</td>\n      <td>0</td>\n      <td>...</td>\n      <td>0</td>\n      <td>1</td>\n      <td>0</td>\n      <td>0</td>\n      <td>0</td>\n      <td>0</td>\n      <td>1</td>\n      <td>0</td>\n      <td>0</td>\n      <td>0</td>\n    </tr>\n    <tr>\n      <th>2</th>\n      <td>5631500400</td>\n      <td>180000.0</td>\n      <td>2/25/2015</td>\n      <td>1933</td>\n      <td>NaN</td>\n      <td>0</td>\n      <td>0</td>\n      <td>0</td>\n      <td>0</td>\n      <td>0</td>\n      <td>...</td>\n      <td>1</td>\n      <td>0</td>\n      <td>0</td>\n      <td>0</td>\n      <td>1</td>\n      <td>0</td>\n      <td>0</td>\n      <td>0</td>\n      <td>0</td>\n      <td>0</td>\n    </tr>\n    <tr>\n      <th>3</th>\n      <td>2487200875</td>\n      <td>604000.0</td>\n      <td>12/9/2014</td>\n      <td>1965</td>\n      <td>NaN</td>\n      <td>0</td>\n      <td>0</td>\n      <td>0</td>\n      <td>0</td>\n      <td>0</td>\n      <td>...</td>\n      <td>0</td>\n      <td>1</td>\n      <td>0</td>\n      <td>0</td>\n      <td>1</td>\n      <td>0</td>\n      <td>0</td>\n      <td>0</td>\n      <td>0</td>\n      <td>0</td>\n    </tr>\n    <tr>\n      <th>4</th>\n      <td>1954400510</td>\n      <td>510000.0</td>\n      <td>2/18/2015</td>\n      <td>1987</td>\n      <td>NaN</td>\n      <td>0</td>\n      <td>0</td>\n      <td>0</td>\n      <td>0</td>\n      <td>0</td>\n      <td>...</td>\n      <td>0</td>\n      <td>0</td>\n      <td>1</td>\n      <td>0</td>\n      <td>1</td>\n      <td>0</td>\n      <td>0</td>\n      <td>0</td>\n      <td>0</td>\n      <td>0</td>\n    </tr>\n    <tr>\n      <th>...</th>\n      <td>...</td>\n      <td>...</td>\n      <td>...</td>\n      <td>...</td>\n      <td>...</td>\n      <td>...</td>\n      <td>...</td>\n      <td>...</td>\n      <td>...</td>\n      <td>...</td>\n      <td>...</td>\n      <td>...</td>\n      <td>...</td>\n      <td>...</td>\n      <td>...</td>\n      <td>...</td>\n      <td>...</td>\n      <td>...</td>\n      <td>...</td>\n      <td>...</td>\n      <td>...</td>\n    </tr>\n    <tr>\n      <th>21592</th>\n      <td>263000018</td>\n      <td>360000.0</td>\n      <td>5/21/2014</td>\n      <td>2009</td>\n      <td>NaN</td>\n      <td>0</td>\n      <td>0</td>\n      <td>0</td>\n      <td>0</td>\n      <td>0</td>\n      <td>...</td>\n      <td>0</td>\n      <td>0</td>\n      <td>1</td>\n      <td>0</td>\n      <td>0</td>\n      <td>0</td>\n      <td>0</td>\n      <td>0</td>\n      <td>1</td>\n      <td>0</td>\n    </tr>\n    <tr>\n      <th>21593</th>\n      <td>6600060120</td>\n      <td>400000.0</td>\n      <td>2/23/2015</td>\n      <td>2014</td>\n      <td>NaN</td>\n      <td>0</td>\n      <td>0</td>\n      <td>0</td>\n      <td>0</td>\n      <td>0</td>\n      <td>...</td>\n      <td>0</td>\n      <td>0</td>\n      <td>1</td>\n      <td>0</td>\n      <td>0</td>\n      <td>0</td>\n      <td>1</td>\n      <td>0</td>\n      <td>0</td>\n      <td>0</td>\n    </tr>\n    <tr>\n      <th>21594</th>\n      <td>1523300141</td>\n      <td>402101.0</td>\n      <td>6/23/2014</td>\n      <td>2009</td>\n      <td>NaN</td>\n      <td>0</td>\n      <td>0</td>\n      <td>0</td>\n      <td>0</td>\n      <td>0</td>\n      <td>...</td>\n      <td>0</td>\n      <td>1</td>\n      <td>0</td>\n      <td>0</td>\n      <td>0</td>\n      <td>0</td>\n      <td>1</td>\n      <td>0</td>\n      <td>0</td>\n      <td>0</td>\n    </tr>\n    <tr>\n      <th>21595</th>\n      <td>291310100</td>\n      <td>400000.0</td>\n      <td>1/16/2015</td>\n      <td>2004</td>\n      <td>NaN</td>\n      <td>0</td>\n      <td>0</td>\n      <td>0</td>\n      <td>0</td>\n      <td>0</td>\n      <td>...</td>\n      <td>0</td>\n      <td>0</td>\n      <td>1</td>\n      <td>0</td>\n      <td>0</td>\n      <td>0</td>\n      <td>1</td>\n      <td>0</td>\n      <td>0</td>\n      <td>0</td>\n    </tr>\n    <tr>\n      <th>21596</th>\n      <td>1523300157</td>\n      <td>325000.0</td>\n      <td>10/15/2014</td>\n      <td>2008</td>\n      <td>NaN</td>\n      <td>0</td>\n      <td>0</td>\n      <td>0</td>\n      <td>0</td>\n      <td>0</td>\n      <td>...</td>\n      <td>0</td>\n      <td>1</td>\n      <td>0</td>\n      <td>0</td>\n      <td>0</td>\n      <td>0</td>\n      <td>1</td>\n      <td>0</td>\n      <td>0</td>\n      <td>0</td>\n    </tr>\n  </tbody>\n</table>\n<p>21597 rows × 22 columns</p>\n</div>"
     },
     "execution_count": 127,
     "metadata": {},
     "output_type": "execute_result"
    }
   ],
   "source": [
    "# Visually confirm expected results.\n",
    "kc_m"
   ],
   "metadata": {
    "collapsed": false,
    "pycharm": {
     "name": "#%%\n"
    }
   }
  },
  {
   "cell_type": "markdown",
   "source": [
    "# Date"
   ],
   "metadata": {
    "collapsed": false,
    "pycharm": {
     "name": "#%% md\n"
    }
   }
  },
  {
   "cell_type": "code",
   "execution_count": 131,
   "outputs": [],
   "source": [
    "# Changing Date to datetime object\n",
    "kc_m['date'] = pd.to_datetime(kc_m['date'])"
   ],
   "metadata": {
    "collapsed": false,
    "pycharm": {
     "name": "#%%\n"
    }
   }
  },
  {
   "cell_type": "code",
   "execution_count": 132,
   "outputs": [
    {
     "name": "stdout",
     "output_type": "stream",
     "text": [
      "<class 'pandas.core.frame.DataFrame'>\n",
      "RangeIndex: 21597 entries, 0 to 21596\n",
      "Data columns (total 22 columns):\n",
      " #   Column               Non-Null Count  Dtype         \n",
      "---  ------               --------------  -----         \n",
      " 0   id                   21597 non-null  int64         \n",
      " 1   price                21597 non-null  float64       \n",
      " 2   date                 21597 non-null  datetime64[ns]\n",
      " 3   yr_built             21597 non-null  int64         \n",
      " 4   yr_renovated         744 non-null    float64       \n",
      " 5   grade_10 Very Good   21597 non-null  uint8         \n",
      " 6   grade_11 Excellent   21597 non-null  uint8         \n",
      " 7   grade_12 Luxury      21597 non-null  uint8         \n",
      " 8   grade_13 Mansion     21597 non-null  uint8         \n",
      " 9   grade_3 Poor         21597 non-null  uint8         \n",
      " 10  grade_4 Low          21597 non-null  uint8         \n",
      " 11  grade_5 Fair         21597 non-null  uint8         \n",
      " 12  grade_6 Low Average  21597 non-null  uint8         \n",
      " 13  grade_7 Average      21597 non-null  uint8         \n",
      " 14  grade_8 Good         21597 non-null  uint8         \n",
      " 15  grade_9 Better       21597 non-null  uint8         \n",
      " 16  floors_1.0           21597 non-null  uint8         \n",
      " 17  floors_1.5           21597 non-null  uint8         \n",
      " 18  floors_2.0           21597 non-null  uint8         \n",
      " 19  floors_2.5           21597 non-null  uint8         \n",
      " 20  floors_3.0           21597 non-null  uint8         \n",
      " 21  floors_3.5           21597 non-null  uint8         \n",
      "dtypes: datetime64[ns](1), float64(2), int64(2), uint8(17)\n",
      "memory usage: 1.2 MB\n"
     ]
    }
   ],
   "source": [
    "# Visually confirming change to datetime object\n",
    "kc_m.info()"
   ],
   "metadata": {
    "collapsed": false,
    "pycharm": {
     "name": "#%%\n"
    }
   }
  },
  {
   "cell_type": "code",
   "execution_count": 133,
   "outputs": [
    {
     "data": {
      "text/plain": "2014-06-23    142\n2014-06-26    131\n2014-06-25    131\n2014-07-08    127\n2015-04-27    126\n             ... \n2014-05-17      1\n2014-07-27      1\n2014-08-03      1\n2014-11-02      1\n2015-05-24      1\nName: date, Length: 372, dtype: int64"
     },
     "execution_count": 133,
     "metadata": {},
     "output_type": "execute_result"
    }
   ],
   "source": [
    "# Checking for any placeholder values in the data\n",
    "kc_m['date'].value_counts()"
   ],
   "metadata": {
    "collapsed": false,
    "pycharm": {
     "name": "#%%\n"
    }
   }
  },
  {
   "cell_type": "markdown",
   "source": [
    "No placeholders here. Looks okay to move on."
   ],
   "metadata": {
    "collapsed": false,
    "pycharm": {
     "name": "#%% md\n"
    }
   }
  },
  {
   "cell_type": "code",
   "execution_count": null,
   "outputs": [],
   "source": [],
   "metadata": {
    "collapsed": false,
    "pycharm": {
     "name": "#%%\n"
    }
   }
  }
 ],
 "metadata": {
  "kernelspec": {
   "display_name": "Python 3",
   "language": "python",
   "name": "python3"
  },
  "language_info": {
   "codemirror_mode": {
    "name": "ipython",
    "version": 2
   },
   "file_extension": ".py",
   "mimetype": "text/x-python",
   "name": "python",
   "nbconvert_exporter": "python",
   "pygments_lexer": "ipython2",
   "version": "2.7.6"
  }
 },
 "nbformat": 4,
 "nbformat_minor": 0
}