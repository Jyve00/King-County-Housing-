{
 "cells": [
  {
   "cell_type": "code",
   "execution_count": 57,
   "source": [
    "import numpy as np\n",
    "import pandas as pd\n",
    "import geopandas as geo\n",
    "import geoplot as gplt\n",
    "import matplotlib.pyplot as plt"
   ],
   "outputs": [],
   "metadata": {}
  },
  {
   "cell_type": "code",
   "execution_count": 58,
   "source": [
    "path = '/Users/stephen/Flatiron/Phase2/Project2/Data/wa'\n",
    "geo_data = gpd.read_file(path)\n",
    "type(geo_data)"
   ],
   "outputs": [
    {
     "output_type": "execute_result",
     "data": {
      "text/plain": [
       "geopandas.geodataframe.GeoDataFrame"
      ]
     },
     "metadata": {},
     "execution_count": 58
    }
   ],
   "metadata": {}
  },
  {
   "cell_type": "code",
   "execution_count": 59,
   "source": [
    "geo_data.head()"
   ],
   "outputs": [
    {
     "output_type": "execute_result",
     "data": {
      "text/html": [
       "<div>\n",
       "<style scoped>\n",
       "    .dataframe tbody tr th:only-of-type {\n",
       "        vertical-align: middle;\n",
       "    }\n",
       "\n",
       "    .dataframe tbody tr th {\n",
       "        vertical-align: top;\n",
       "    }\n",
       "\n",
       "    .dataframe thead th {\n",
       "        text-align: right;\n",
       "    }\n",
       "</style>\n",
       "<table border=\"1\" class=\"dataframe\">\n",
       "  <thead>\n",
       "    <tr style=\"text-align: right;\">\n",
       "      <th></th>\n",
       "      <th>FIPS</th>\n",
       "      <th>NAME</th>\n",
       "      <th>STATE_NAME</th>\n",
       "      <th>STATE_FIPS</th>\n",
       "      <th>CNTY_FIPS</th>\n",
       "      <th>POP1990</th>\n",
       "      <th>POP90_SQMI</th>\n",
       "      <th>HOUSEHOLDS</th>\n",
       "      <th>MALES</th>\n",
       "      <th>FEMALES</th>\n",
       "      <th>...</th>\n",
       "      <th>UNITS2</th>\n",
       "      <th>UNITS3_9</th>\n",
       "      <th>UNITS10_49</th>\n",
       "      <th>UNITS50_UP</th>\n",
       "      <th>MOBILEHOME</th>\n",
       "      <th>NO_FARMS87</th>\n",
       "      <th>AVG_SIZE87</th>\n",
       "      <th>CROP_ACR87</th>\n",
       "      <th>AVG_SALE87</th>\n",
       "      <th>geometry</th>\n",
       "    </tr>\n",
       "  </thead>\n",
       "  <tbody>\n",
       "    <tr>\n",
       "      <th>0</th>\n",
       "      <td>53001</td>\n",
       "      <td>Adams</td>\n",
       "      <td>Washington</td>\n",
       "      <td>53</td>\n",
       "      <td>001</td>\n",
       "      <td>13603</td>\n",
       "      <td>7.08</td>\n",
       "      <td>4586</td>\n",
       "      <td>6858</td>\n",
       "      <td>6745</td>\n",
       "      <td>...</td>\n",
       "      <td>143</td>\n",
       "      <td>272</td>\n",
       "      <td>228</td>\n",
       "      <td>0</td>\n",
       "      <td>1244</td>\n",
       "      <td>805</td>\n",
       "      <td>1451</td>\n",
       "      <td>878403</td>\n",
       "      <td>226706</td>\n",
       "      <td>POLYGON ((-119.37009 46.73407, -119.36909 46.9...</td>\n",
       "    </tr>\n",
       "    <tr>\n",
       "      <th>1</th>\n",
       "      <td>53003</td>\n",
       "      <td>Asotin</td>\n",
       "      <td>Washington</td>\n",
       "      <td>53</td>\n",
       "      <td>003</td>\n",
       "      <td>17605</td>\n",
       "      <td>27.72</td>\n",
       "      <td>7003</td>\n",
       "      <td>8377</td>\n",
       "      <td>9228</td>\n",
       "      <td>...</td>\n",
       "      <td>500</td>\n",
       "      <td>463</td>\n",
       "      <td>153</td>\n",
       "      <td>0</td>\n",
       "      <td>1005</td>\n",
       "      <td>149</td>\n",
       "      <td>1840</td>\n",
       "      <td>92511</td>\n",
       "      <td>57506</td>\n",
       "      <td>POLYGON ((-116.91815 45.99530, -117.48065 45.9...</td>\n",
       "    </tr>\n",
       "    <tr>\n",
       "      <th>2</th>\n",
       "      <td>53005</td>\n",
       "      <td>Benton</td>\n",
       "      <td>Washington</td>\n",
       "      <td>53</td>\n",
       "      <td>005</td>\n",
       "      <td>112560</td>\n",
       "      <td>65.63</td>\n",
       "      <td>42227</td>\n",
       "      <td>55659</td>\n",
       "      <td>56901</td>\n",
       "      <td>...</td>\n",
       "      <td>1883</td>\n",
       "      <td>3889</td>\n",
       "      <td>3310</td>\n",
       "      <td>1510</td>\n",
       "      <td>5374</td>\n",
       "      <td>1178</td>\n",
       "      <td>547</td>\n",
       "      <td>433186</td>\n",
       "      <td>113018</td>\n",
       "      <td>POLYGON ((-118.98102 45.99920, -119.03111 45.9...</td>\n",
       "    </tr>\n",
       "    <tr>\n",
       "      <th>3</th>\n",
       "      <td>53007</td>\n",
       "      <td>Chelan</td>\n",
       "      <td>Washington</td>\n",
       "      <td>53</td>\n",
       "      <td>007</td>\n",
       "      <td>52250</td>\n",
       "      <td>17.92</td>\n",
       "      <td>20645</td>\n",
       "      <td>25780</td>\n",
       "      <td>26470</td>\n",
       "      <td>...</td>\n",
       "      <td>910</td>\n",
       "      <td>1943</td>\n",
       "      <td>1531</td>\n",
       "      <td>212</td>\n",
       "      <td>3139</td>\n",
       "      <td>1411</td>\n",
       "      <td>82</td>\n",
       "      <td>46002</td>\n",
       "      <td>72893</td>\n",
       "      <td>POLYGON ((-121.11678 47.59657, -121.12447 47.6...</td>\n",
       "    </tr>\n",
       "    <tr>\n",
       "      <th>4</th>\n",
       "      <td>53009</td>\n",
       "      <td>Clallam</td>\n",
       "      <td>Washington</td>\n",
       "      <td>53</td>\n",
       "      <td>009</td>\n",
       "      <td>56464</td>\n",
       "      <td>32.21</td>\n",
       "      <td>22837</td>\n",
       "      <td>28084</td>\n",
       "      <td>28380</td>\n",
       "      <td>...</td>\n",
       "      <td>521</td>\n",
       "      <td>871</td>\n",
       "      <td>1094</td>\n",
       "      <td>241</td>\n",
       "      <td>4776</td>\n",
       "      <td>375</td>\n",
       "      <td>71</td>\n",
       "      <td>15582</td>\n",
       "      <td>15416</td>\n",
       "      <td>POLYGON ((-124.60536 47.87394, -124.73142 48.1...</td>\n",
       "    </tr>\n",
       "  </tbody>\n",
       "</table>\n",
       "<p>5 rows × 49 columns</p>\n",
       "</div>"
      ],
      "text/plain": [
       "    FIPS     NAME  STATE_NAME STATE_FIPS CNTY_FIPS  POP1990  POP90_SQMI  \\\n",
       "0  53001    Adams  Washington         53       001    13603        7.08   \n",
       "1  53003   Asotin  Washington         53       003    17605       27.72   \n",
       "2  53005   Benton  Washington         53       005   112560       65.63   \n",
       "3  53007   Chelan  Washington         53       007    52250       17.92   \n",
       "4  53009  Clallam  Washington         53       009    56464       32.21   \n",
       "\n",
       "   HOUSEHOLDS  MALES  FEMALES  ...  UNITS2  UNITS3_9  UNITS10_49  UNITS50_UP  \\\n",
       "0        4586   6858     6745  ...     143       272         228           0   \n",
       "1        7003   8377     9228  ...     500       463         153           0   \n",
       "2       42227  55659    56901  ...    1883      3889        3310        1510   \n",
       "3       20645  25780    26470  ...     910      1943        1531         212   \n",
       "4       22837  28084    28380  ...     521       871        1094         241   \n",
       "\n",
       "   MOBILEHOME  NO_FARMS87  AVG_SIZE87  CROP_ACR87  AVG_SALE87  \\\n",
       "0        1244         805        1451      878403      226706   \n",
       "1        1005         149        1840       92511       57506   \n",
       "2        5374        1178         547      433186      113018   \n",
       "3        3139        1411          82       46002       72893   \n",
       "4        4776         375          71       15582       15416   \n",
       "\n",
       "                                            geometry  \n",
       "0  POLYGON ((-119.37009 46.73407, -119.36909 46.9...  \n",
       "1  POLYGON ((-116.91815 45.99530, -117.48065 45.9...  \n",
       "2  POLYGON ((-118.98102 45.99920, -119.03111 45.9...  \n",
       "3  POLYGON ((-121.11678 47.59657, -121.12447 47.6...  \n",
       "4  POLYGON ((-124.60536 47.87394, -124.73142 48.1...  \n",
       "\n",
       "[5 rows x 49 columns]"
      ]
     },
     "metadata": {},
     "execution_count": 59
    }
   ],
   "metadata": {}
  },
  {
   "cell_type": "code",
   "execution_count": 60,
   "source": [
    "geo_data.plot()"
   ],
   "outputs": [
    {
     "output_type": "execute_result",
     "data": {
      "text/plain": [
       "<AxesSubplot:>"
      ]
     },
     "metadata": {},
     "execution_count": 60
    },
    {
     "output_type": "display_data",
     "data": {
      "image/png": "[encoded data removed]",
      "text/plain": [
       "<Figure size 432x288 with 1 Axes>"
      ]
     },
     "metadata": {
      "needs_background": "light"
     }
    }
   ],
   "metadata": {}
  },
  {
   "cell_type": "code",
   "execution_count": 61,
   "source": [
    "df = pd.read_csv(\"/Users/stephen/Flatiron/Phase2/Project2/Data/kc_house_data.csv\")\n",
    "df = df[['long', 'lat']]\n",
    "df\n",
    "\n"
   ],
   "outputs": [
    {
     "output_type": "execute_result",
     "data": {
      "text/html": [
       "<div>\n",
       "<style scoped>\n",
       "    .dataframe tbody tr th:only-of-type {\n",
       "        vertical-align: middle;\n",
       "    }\n",
       "\n",
       "    .dataframe tbody tr th {\n",
       "        vertical-align: top;\n",
       "    }\n",
       "\n",
       "    .dataframe thead th {\n",
       "        text-align: right;\n",
       "    }\n",
       "</style>\n",
       "<table border=\"1\" class=\"dataframe\">\n",
       "  <thead>\n",
       "    <tr style=\"text-align: right;\">\n",
       "      <th></th>\n",
       "      <th>long</th>\n",
       "      <th>lat</th>\n",
       "    </tr>\n",
       "  </thead>\n",
       "  <tbody>\n",
       "    <tr>\n",
       "      <th>0</th>\n",
       "      <td>-122.257</td>\n",
       "      <td>47.5112</td>\n",
       "    </tr>\n",
       "    <tr>\n",
       "      <th>1</th>\n",
       "      <td>-122.319</td>\n",
       "      <td>47.7210</td>\n",
       "    </tr>\n",
       "    <tr>\n",
       "      <th>2</th>\n",
       "      <td>-122.233</td>\n",
       "      <td>47.7379</td>\n",
       "    </tr>\n",
       "    <tr>\n",
       "      <th>3</th>\n",
       "      <td>-122.393</td>\n",
       "      <td>47.5208</td>\n",
       "    </tr>\n",
       "    <tr>\n",
       "      <th>4</th>\n",
       "      <td>-122.045</td>\n",
       "      <td>47.6168</td>\n",
       "    </tr>\n",
       "    <tr>\n",
       "      <th>...</th>\n",
       "      <td>...</td>\n",
       "      <td>...</td>\n",
       "    </tr>\n",
       "    <tr>\n",
       "      <th>21592</th>\n",
       "      <td>-122.346</td>\n",
       "      <td>47.6993</td>\n",
       "    </tr>\n",
       "    <tr>\n",
       "      <th>21593</th>\n",
       "      <td>-122.362</td>\n",
       "      <td>47.5107</td>\n",
       "    </tr>\n",
       "    <tr>\n",
       "      <th>21594</th>\n",
       "      <td>-122.299</td>\n",
       "      <td>47.5944</td>\n",
       "    </tr>\n",
       "    <tr>\n",
       "      <th>21595</th>\n",
       "      <td>-122.069</td>\n",
       "      <td>47.5345</td>\n",
       "    </tr>\n",
       "    <tr>\n",
       "      <th>21596</th>\n",
       "      <td>-122.299</td>\n",
       "      <td>47.5941</td>\n",
       "    </tr>\n",
       "  </tbody>\n",
       "</table>\n",
       "<p>21597 rows × 2 columns</p>\n",
       "</div>"
      ],
      "text/plain": [
       "          long      lat\n",
       "0     -122.257  47.5112\n",
       "1     -122.319  47.7210\n",
       "2     -122.233  47.7379\n",
       "3     -122.393  47.5208\n",
       "4     -122.045  47.6168\n",
       "...        ...      ...\n",
       "21592 -122.346  47.6993\n",
       "21593 -122.362  47.5107\n",
       "21594 -122.299  47.5944\n",
       "21595 -122.069  47.5345\n",
       "21596 -122.299  47.5941\n",
       "\n",
       "[21597 rows x 2 columns]"
      ]
     },
     "metadata": {},
     "execution_count": 61
    }
   ],
   "metadata": {}
  },
  {
   "cell_type": "code",
   "execution_count": 62,
   "source": [
    "gdf = geo.GeoDataFrame(\n",
    "    df, geometry=geo.points_from_xy(df.long, df.lat)\n",
    ")"
   ],
   "outputs": [],
   "metadata": {}
  },
  {
   "cell_type": "code",
   "execution_count": 63,
   "source": [
    "print(gdf.head())\n"
   ],
   "outputs": [
    {
     "output_type": "stream",
     "name": "stdout",
     "text": [
      "      long      lat                     geometry\n",
      "0 -122.257  47.5112  POINT (-122.25700 47.51120)\n",
      "1 -122.319  47.7210  POINT (-122.31900 47.72100)\n",
      "2 -122.233  47.7379  POINT (-122.23300 47.73790)\n",
      "3 -122.393  47.5208  POINT (-122.39300 47.52080)\n",
      "4 -122.045  47.6168  POINT (-122.04500 47.61680)\n"
     ]
    }
   ],
   "metadata": {}
  },
  {
   "cell_type": "code",
   "execution_count": 64,
   "source": [
    "world.head()\n",
    "world.plot();"
   ],
   "outputs": [
    {
     "output_type": "display_data",
     "data": {
      "image/png": "[encoded data removed]",
      "text/plain": [
       "<Figure size 432x288 with 1 Axes>"
      ]
     },
     "metadata": {
      "needs_background": "light"
     }
    }
   ],
   "metadata": {}
  },
  {
   "cell_type": "code",
   "execution_count": 65,
   "source": [
    "gdf.plot()"
   ],
   "outputs": [
    {
     "output_type": "execute_result",
     "data": {
      "text/plain": [
       "<AxesSubplot:>"
      ]
     },
     "metadata": {},
     "execution_count": 65
    },
    {
     "output_type": "display_data",
     "data": {
      "image/png": "[encoded data removed]",
      "text/plain": [
       "<Figure size 432x288 with 1 Axes>"
      ]
     },
     "metadata": {
      "needs_background": "light"
     }
    }
   ],
   "metadata": {}
  },
  {
   "cell_type": "code",
   "execution_count": null,
   "source": [],
   "outputs": [],
   "metadata": {}
  }
 ],
 "metadata": {
  "kernelspec": {
   "name": "python3",
   "display_name": "Python 3.9.7 64-bit ('geo_env': conda)"
  },
  "language_info": {
   "codemirror_mode": {
    "name": "ipython",
    "version": 3
   },
   "file_extension": ".py",
   "mimetype": "text/x-python",
   "name": "python",
   "nbconvert_exporter": "python",
   "pygments_lexer": "ipython3",
   "version": "3.9.7"
  },
  "interpreter": {
   "hash": "89fd67bf431b9a49897c84e48fcfb81da6177b7aeb6eb7eee8cfa00a10501a5e"
  }
 },
 "nbformat": 4,
 "nbformat_minor": 4
}