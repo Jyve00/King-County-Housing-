{
 "cells": [
  {
   "cell_type": "code",
   "execution_count": 6,
   "source": [
    "import numpy as np\n",
    "import pandas as pd\n",
    "import geopandas as geo\n",
    "import geoplot as gplt\n",
    "import matplotlib.pyplot as plt"
   ],
   "outputs": [],
   "metadata": {}
  },
  {
   "cell_type": "code",
   "execution_count": 7,
   "source": [
    "path = '/Users/stephen/Flatiron/Phase2/Project2/Data/king_shape_file'\n",
    "geo_data = geo.read_file(path)\n",
    "type(geo_data)"
   ],
   "outputs": [
    {
     "output_type": "execute_result",
     "data": {
      "text/plain": [
       "geopandas.geodataframe.GeoDataFrame"
      ]
     },
     "metadata": {},
     "execution_count": 7
    }
   ],
   "metadata": {}
  },
  {
   "cell_type": "code",
   "execution_count": 8,
   "source": [
    "geo_data.head()"
   ],
   "outputs": [
    {
     "output_type": "execute_result",
     "data": {
      "text/html": [
       "<div>\n",
       "<style scoped>\n",
       "    .dataframe tbody tr th:only-of-type {\n",
       "        vertical-align: middle;\n",
       "    }\n",
       "\n",
       "    .dataframe tbody tr th {\n",
       "        vertical-align: top;\n",
       "    }\n",
       "\n",
       "    .dataframe thead th {\n",
       "        text-align: right;\n",
       "    }\n",
       "</style>\n",
       "<table border=\"1\" class=\"dataframe\">\n",
       "  <thead>\n",
       "    <tr style=\"text-align: right;\">\n",
       "      <th></th>\n",
       "      <th>OBJECTID</th>\n",
       "      <th>SCHDST</th>\n",
       "      <th>NAME</th>\n",
       "      <th>DSTNUM</th>\n",
       "      <th>Shape_Leng</th>\n",
       "      <th>Shape_Area</th>\n",
       "      <th>geometry</th>\n",
       "    </tr>\n",
       "  </thead>\n",
       "  <tbody>\n",
       "    <tr>\n",
       "      <th>0</th>\n",
       "      <td>1</td>\n",
       "      <td>1</td>\n",
       "      <td>Seattle</td>\n",
       "      <td>17001</td>\n",
       "      <td>435348.243737</td>\n",
       "      <td>2.570049e+09</td>\n",
       "      <td>MULTIPOLYGON (((-122.40324 47.66637, -122.4028...</td>\n",
       "    </tr>\n",
       "    <tr>\n",
       "      <th>1</th>\n",
       "      <td>2</td>\n",
       "      <td>210</td>\n",
       "      <td>Federal Way</td>\n",
       "      <td>17210</td>\n",
       "      <td>174555.620132</td>\n",
       "      <td>1.002917e+09</td>\n",
       "      <td>POLYGON ((-122.29057 47.39374, -122.29039 47.3...</td>\n",
       "    </tr>\n",
       "    <tr>\n",
       "      <th>2</th>\n",
       "      <td>3</td>\n",
       "      <td>216</td>\n",
       "      <td>Enumclaw</td>\n",
       "      <td>17216</td>\n",
       "      <td>735641.958121</td>\n",
       "      <td>1.264371e+10</td>\n",
       "      <td>POLYGON ((-121.84898 47.34708, -121.84908 47.3...</td>\n",
       "    </tr>\n",
       "    <tr>\n",
       "      <th>3</th>\n",
       "      <td>4</td>\n",
       "      <td>400</td>\n",
       "      <td>Mercer Island</td>\n",
       "      <td>17400</td>\n",
       "      <td>76961.896481</td>\n",
       "      <td>1.757027e+08</td>\n",
       "      <td>POLYGON ((-122.24475 47.59601, -122.24461 47.5...</td>\n",
       "    </tr>\n",
       "    <tr>\n",
       "      <th>4</th>\n",
       "      <td>5</td>\n",
       "      <td>401</td>\n",
       "      <td>Highline</td>\n",
       "      <td>17401</td>\n",
       "      <td>162866.561537</td>\n",
       "      <td>8.690626e+08</td>\n",
       "      <td>POLYGON ((-122.35853 47.51553, -122.35851 47.5...</td>\n",
       "    </tr>\n",
       "  </tbody>\n",
       "</table>\n",
       "</div>"
      ],
      "text/plain": [
       "   OBJECTID SCHDST           NAME DSTNUM     Shape_Leng    Shape_Area  \\\n",
       "0         1      1        Seattle  17001  435348.243737  2.570049e+09   \n",
       "1         2    210    Federal Way  17210  174555.620132  1.002917e+09   \n",
       "2         3    216       Enumclaw  17216  735641.958121  1.264371e+10   \n",
       "3         4    400  Mercer Island  17400   76961.896481  1.757027e+08   \n",
       "4         5    401       Highline  17401  162866.561537  8.690626e+08   \n",
       "\n",
       "                                            geometry  \n",
       "0  MULTIPOLYGON (((-122.40324 47.66637, -122.4028...  \n",
       "1  POLYGON ((-122.29057 47.39374, -122.29039 47.3...  \n",
       "2  POLYGON ((-121.84898 47.34708, -121.84908 47.3...  \n",
       "3  POLYGON ((-122.24475 47.59601, -122.24461 47.5...  \n",
       "4  POLYGON ((-122.35853 47.51553, -122.35851 47.5...  "
      ]
     },
     "metadata": {},
     "execution_count": 8
    }
   ],
   "metadata": {}
  },
  {
   "cell_type": "code",
   "execution_count": 9,
   "source": [
    "geo_data.plot()"
   ],
   "outputs": [
    {
     "output_type": "execute_result",
     "data": {
      "text/plain": [
       "<AxesSubplot:>"
      ]
     },
     "metadata": {},
     "execution_count": 9
    },
    {
     "output_type": "display_data",
     "data": {
      "image/png": "[encoded data removed]",
      "text/plain": [
       "<Figure size 432x288 with 1 Axes>"
      ]
     },
     "metadata": {
      "needs_background": "light"
     }
    }
   ],
   "metadata": {}
  },
  {
   "cell_type": "code",
   "execution_count": 10,
   "source": [
    "df = pd.read_csv(\"/Users/stephen/Flatiron/Phase2/Project2/Data/kc_house_data.csv\")\n",
    "df = df[['long', 'lat']]\n",
    "df\n",
    "\n"
   ],
   "outputs": [
    {
     "output_type": "execute_result",
     "data": {
      "text/html": [
       "<div>\n",
       "<style scoped>\n",
       "    .dataframe tbody tr th:only-of-type {\n",
       "        vertical-align: middle;\n",
       "    }\n",
       "\n",
       "    .dataframe tbody tr th {\n",
       "        vertical-align: top;\n",
       "    }\n",
       "\n",
       "    .dataframe thead th {\n",
       "        text-align: right;\n",
       "    }\n",
       "</style>\n",
       "<table border=\"1\" class=\"dataframe\">\n",
       "  <thead>\n",
       "    <tr style=\"text-align: right;\">\n",
       "      <th></th>\n",
       "      <th>long</th>\n",
       "      <th>lat</th>\n",
       "    </tr>\n",
       "  </thead>\n",
       "  <tbody>\n",
       "    <tr>\n",
       "      <th>0</th>\n",
       "      <td>-122.257</td>\n",
       "      <td>47.5112</td>\n",
       "    </tr>\n",
       "    <tr>\n",
       "      <th>1</th>\n",
       "      <td>-122.319</td>\n",
       "      <td>47.7210</td>\n",
       "    </tr>\n",
       "    <tr>\n",
       "      <th>2</th>\n",
       "      <td>-122.233</td>\n",
       "      <td>47.7379</td>\n",
       "    </tr>\n",
       "    <tr>\n",
       "      <th>3</th>\n",
       "      <td>-122.393</td>\n",
       "      <td>47.5208</td>\n",
       "    </tr>\n",
       "    <tr>\n",
       "      <th>4</th>\n",
       "      <td>-122.045</td>\n",
       "      <td>47.6168</td>\n",
       "    </tr>\n",
       "    <tr>\n",
       "      <th>...</th>\n",
       "      <td>...</td>\n",
       "      <td>...</td>\n",
       "    </tr>\n",
       "    <tr>\n",
       "      <th>21592</th>\n",
       "      <td>-122.346</td>\n",
       "      <td>47.6993</td>\n",
       "    </tr>\n",
       "    <tr>\n",
       "      <th>21593</th>\n",
       "      <td>-122.362</td>\n",
       "      <td>47.5107</td>\n",
       "    </tr>\n",
       "    <tr>\n",
       "      <th>21594</th>\n",
       "      <td>-122.299</td>\n",
       "      <td>47.5944</td>\n",
       "    </tr>\n",
       "    <tr>\n",
       "      <th>21595</th>\n",
       "      <td>-122.069</td>\n",
       "      <td>47.5345</td>\n",
       "    </tr>\n",
       "    <tr>\n",
       "      <th>21596</th>\n",
       "      <td>-122.299</td>\n",
       "      <td>47.5941</td>\n",
       "    </tr>\n",
       "  </tbody>\n",
       "</table>\n",
       "<p>21597 rows × 2 columns</p>\n",
       "</div>"
      ],
      "text/plain": [
       "          long      lat\n",
       "0     -122.257  47.5112\n",
       "1     -122.319  47.7210\n",
       "2     -122.233  47.7379\n",
       "3     -122.393  47.5208\n",
       "4     -122.045  47.6168\n",
       "...        ...      ...\n",
       "21592 -122.346  47.6993\n",
       "21593 -122.362  47.5107\n",
       "21594 -122.299  47.5944\n",
       "21595 -122.069  47.5345\n",
       "21596 -122.299  47.5941\n",
       "\n",
       "[21597 rows x 2 columns]"
      ]
     },
     "metadata": {},
     "execution_count": 10
    }
   ],
   "metadata": {}
  },
  {
   "cell_type": "code",
   "execution_count": 11,
   "source": [
    "gdf = geo.GeoDataFrame(\n",
    "    df, geometry=geo.points_from_xy(df.long, df.lat)\n",
    ")"
   ],
   "outputs": [],
   "metadata": {}
  },
  {
   "cell_type": "code",
   "execution_count": 12,
   "source": [
    "print(gdf.head())\n"
   ],
   "outputs": [
    {
     "output_type": "stream",
     "name": "stdout",
     "text": [
      "      long      lat                     geometry\n",
      "0 -122.257  47.5112  POINT (-122.25700 47.51120)\n",
      "1 -122.319  47.7210  POINT (-122.31900 47.72100)\n",
      "2 -122.233  47.7379  POINT (-122.23300 47.73790)\n",
      "3 -122.393  47.5208  POINT (-122.39300 47.52080)\n",
      "4 -122.045  47.6168  POINT (-122.04500 47.61680)\n"
     ]
    }
   ],
   "metadata": {}
  },
  {
   "cell_type": "code",
   "execution_count": 13,
   "source": [
    "world.head()\n",
    "world.plot();"
   ],
   "outputs": [
    {
     "output_type": "error",
     "ename": "NameError",
     "evalue": "name 'world' is not defined",
     "traceback": [
      "\u001b[0;31m---------------------------------------------------------------------------\u001b[0m",
      "\u001b[0;31mNameError\u001b[0m                                 Traceback (most recent call last)",
      "\u001b[0;32m/var/folders/m3/ywsrz7k170vbk8511l1h_6840000gn/T/ipykernel_71320/2194018876.py\u001b[0m in \u001b[0;36m<module>\u001b[0;34m\u001b[0m\n\u001b[0;32m----> 1\u001b[0;31m \u001b[0mworld\u001b[0m\u001b[0;34m.\u001b[0m\u001b[0mhead\u001b[0m\u001b[0;34m(\u001b[0m\u001b[0;34m)\u001b[0m\u001b[0;34m\u001b[0m\u001b[0;34m\u001b[0m\u001b[0m\n\u001b[0m\u001b[1;32m      2\u001b[0m \u001b[0mworld\u001b[0m\u001b[0;34m.\u001b[0m\u001b[0mplot\u001b[0m\u001b[0;34m(\u001b[0m\u001b[0;34m)\u001b[0m\u001b[0;34m;\u001b[0m\u001b[0;34m\u001b[0m\u001b[0;34m\u001b[0m\u001b[0m\n",
      "\u001b[0;31mNameError\u001b[0m: name 'world' is not defined"
     ]
    }
   ],
   "metadata": {}
  },
  {
   "cell_type": "code",
   "execution_count": null,
   "source": [
    "gdf.plot()"
   ],
   "outputs": [],
   "metadata": {}
  },
  {
   "cell_type": "code",
   "execution_count": null,
   "source": [
    "king = geo.read_file('/Users/stephen/Flatiron/Phase2/Project2/Data/King_county_shape')\n",
    "king.plot()"
   ],
   "outputs": [],
   "metadata": {}
  },
  {
   "cell_type": "code",
   "execution_count": null,
   "source": [],
   "outputs": [],
   "metadata": {}
  }
 ],
 "metadata": {
  "kernelspec": {
   "name": "python3",
   "display_name": "Python 3.9.7 64-bit ('geo_env': conda)"
  },
  "language_info": {
   "codemirror_mode": {
    "name": "ipython",
    "version": 3
   },
   "file_extension": ".py",
   "mimetype": "text/x-python",
   "name": "python",
   "nbconvert_exporter": "python",
   "pygments_lexer": "ipython3",
   "version": "3.9.7"
  },
  "interpreter": {
   "hash": "89fd67bf431b9a49897c84e48fcfb81da6177b7aeb6eb7eee8cfa00a10501a5e"
  }
 },
 "nbformat": 4,
 "nbformat_minor": 4
}